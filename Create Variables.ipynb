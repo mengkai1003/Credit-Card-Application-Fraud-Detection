{
 "cells": [
  {
   "cell_type": "code",
   "execution_count": 1,
   "id": "seasonal-bolivia",
   "metadata": {},
   "outputs": [],
   "source": [
    "import pandas as pd\n",
    "import numpy as np\n",
    "import matplotlib.pyplot as plt\n",
    "from datetime import datetime as dt\n",
    "from datetime import date, time, timedelta\n",
    "import calendar\n",
    "from timeit import Timer\n",
    "import time"
   ]
  },
  {
   "cell_type": "markdown",
   "id": "muslim-veteran",
   "metadata": {},
   "source": [
    "### Load the Table and Preprocess"
   ]
  },
  {
   "cell_type": "code",
   "execution_count": 2,
   "id": "wicked-violation",
   "metadata": {},
   "outputs": [],
   "source": [
    "df = pd.read_csv(\"applications data.csv\")"
   ]
  },
  {
   "cell_type": "code",
   "execution_count": 3,
   "id": "funded-estimate",
   "metadata": {},
   "outputs": [
    {
     "data": {
      "text/html": [
       "<div>\n",
       "<style scoped>\n",
       "    .dataframe tbody tr th:only-of-type {\n",
       "        vertical-align: middle;\n",
       "    }\n",
       "\n",
       "    .dataframe tbody tr th {\n",
       "        vertical-align: top;\n",
       "    }\n",
       "\n",
       "    .dataframe thead th {\n",
       "        text-align: right;\n",
       "    }\n",
       "</style>\n",
       "<table border=\"1\" class=\"dataframe\">\n",
       "  <thead>\n",
       "    <tr style=\"text-align: right;\">\n",
       "      <th></th>\n",
       "      <th>record</th>\n",
       "      <th>date</th>\n",
       "      <th>ssn</th>\n",
       "      <th>firstname</th>\n",
       "      <th>lastname</th>\n",
       "      <th>address</th>\n",
       "      <th>zip5</th>\n",
       "      <th>dob</th>\n",
       "      <th>homephone</th>\n",
       "      <th>fraud_label</th>\n",
       "    </tr>\n",
       "  </thead>\n",
       "  <tbody>\n",
       "    <tr>\n",
       "      <th>0</th>\n",
       "      <td>1</td>\n",
       "      <td>20160101</td>\n",
       "      <td>379070012</td>\n",
       "      <td>XRRAMMTR</td>\n",
       "      <td>SMJETJMJ</td>\n",
       "      <td>6861 EUTST PL</td>\n",
       "      <td>2765</td>\n",
       "      <td>19070626</td>\n",
       "      <td>1797504115</td>\n",
       "      <td>0</td>\n",
       "    </tr>\n",
       "    <tr>\n",
       "      <th>1</th>\n",
       "      <td>2</td>\n",
       "      <td>20160101</td>\n",
       "      <td>387482503</td>\n",
       "      <td>MAMSTUJR</td>\n",
       "      <td>RTTEMRRR</td>\n",
       "      <td>7280 URASA PL</td>\n",
       "      <td>57169</td>\n",
       "      <td>19340615</td>\n",
       "      <td>4164239415</td>\n",
       "      <td>1</td>\n",
       "    </tr>\n",
       "    <tr>\n",
       "      <th>2</th>\n",
       "      <td>3</td>\n",
       "      <td>20160101</td>\n",
       "      <td>200332444</td>\n",
       "      <td>SZMMUJEZS</td>\n",
       "      <td>EUSEZRAE</td>\n",
       "      <td>5581 RSREX LN</td>\n",
       "      <td>56721</td>\n",
       "      <td>19070626</td>\n",
       "      <td>216537580</td>\n",
       "      <td>0</td>\n",
       "    </tr>\n",
       "    <tr>\n",
       "      <th>3</th>\n",
       "      <td>4</td>\n",
       "      <td>20160101</td>\n",
       "      <td>747451317</td>\n",
       "      <td>SJJZSXRSZ</td>\n",
       "      <td>ETJXTXXS</td>\n",
       "      <td>1387 UJZXJ RD</td>\n",
       "      <td>35286</td>\n",
       "      <td>19440430</td>\n",
       "      <td>132144161</td>\n",
       "      <td>0</td>\n",
       "    </tr>\n",
       "    <tr>\n",
       "      <th>4</th>\n",
       "      <td>5</td>\n",
       "      <td>20160101</td>\n",
       "      <td>24065868</td>\n",
       "      <td>SSSXUEJMS</td>\n",
       "      <td>SSUUJXUZ</td>\n",
       "      <td>279 EAASA WY</td>\n",
       "      <td>3173</td>\n",
       "      <td>19980315</td>\n",
       "      <td>6101082272</td>\n",
       "      <td>0</td>\n",
       "    </tr>\n",
       "  </tbody>\n",
       "</table>\n",
       "</div>"
      ],
      "text/plain": [
       "   record      date        ssn  firstname  lastname        address   zip5  \\\n",
       "0       1  20160101  379070012   XRRAMMTR  SMJETJMJ  6861 EUTST PL   2765   \n",
       "1       2  20160101  387482503   MAMSTUJR  RTTEMRRR  7280 URASA PL  57169   \n",
       "2       3  20160101  200332444  SZMMUJEZS  EUSEZRAE  5581 RSREX LN  56721   \n",
       "3       4  20160101  747451317  SJJZSXRSZ  ETJXTXXS  1387 UJZXJ RD  35286   \n",
       "4       5  20160101   24065868  SSSXUEJMS  SSUUJXUZ   279 EAASA WY   3173   \n",
       "\n",
       "        dob   homephone  fraud_label  \n",
       "0  19070626  1797504115            0  \n",
       "1  19340615  4164239415            1  \n",
       "2  19070626   216537580            0  \n",
       "3  19440430   132144161            0  \n",
       "4  19980315  6101082272            0  "
      ]
     },
     "execution_count": 3,
     "metadata": {},
     "output_type": "execute_result"
    }
   ],
   "source": [
    "df.head()"
   ]
  },
  {
   "cell_type": "code",
   "execution_count": 4,
   "id": "about-greene",
   "metadata": {},
   "outputs": [],
   "source": [
    "# fix datatype\n",
    "df['date'] = pd.to_datetime(df.date.astype(str).apply(lambda x: x[:4]+'-'+x[4:6]+'-'+x[6:]))\n",
    "df['zip5'] = df['zip5'].apply(lambda x: '{0:0>5}'.format(x))"
   ]
  },
  {
   "cell_type": "code",
   "execution_count": 5,
   "id": "bibliographic-tractor",
   "metadata": {},
   "outputs": [],
   "source": [
    "# fix frivolous values\n",
    "\n",
    "# ssn\n",
    "df.loc[df.ssn == 999999999,'ssn'] = -df[df.ssn == 999999999]['record']\n",
    "df['ssn'] = df['ssn'].apply(lambda x: '{0:0>9}'.format(x))"
   ]
  },
  {
   "cell_type": "code",
   "execution_count": 6,
   "id": "union-citation",
   "metadata": {},
   "outputs": [],
   "source": [
    "# address\n",
    "df.loc[df.address=='123 MAIN ST','address'] = \\\n",
    "    df.loc[df.address=='123 MAIN ST','record'].apply(lambda x: str(x)+' RECORD')"
   ]
  },
  {
   "cell_type": "code",
   "execution_count": 7,
   "id": "derived-reunion",
   "metadata": {},
   "outputs": [],
   "source": [
    "# dob\n",
    "df.loc[df.dob==19070626,'dob'] = -df.loc[df.dob==19070626]['record']\n",
    "df['dob'] = df['dob'].apply(lambda x: '{0:0>8}'.format(x))"
   ]
  },
  {
   "cell_type": "code",
   "execution_count": 8,
   "id": "accepting-disney",
   "metadata": {},
   "outputs": [],
   "source": [
    "# homephone\n",
    "df.loc[df.homephone==9999999999,'homephone'] = -df.loc[df.homephone==9999999999]['record']\n",
    "df['homephone'] = df['homephone'].apply(lambda x: '{0:0>10}'.format(x))"
   ]
  },
  {
   "cell_type": "markdown",
   "id": "alternative-greenhouse",
   "metadata": {},
   "source": [
    "### Risk Table\n",
    "#### Day of Week"
   ]
  },
  {
   "cell_type": "code",
   "execution_count": 9,
   "id": "elder-henry",
   "metadata": {},
   "outputs": [],
   "source": [
    "df['dow'] = df.date.apply(lambda x: calendar.day_name[x.weekday()])"
   ]
  },
  {
   "cell_type": "code",
   "execution_count": 10,
   "id": "romantic-commonwealth",
   "metadata": {},
   "outputs": [],
   "source": [
    "train_test = df[df.date < '2016-11-01']"
   ]
  },
  {
   "cell_type": "code",
   "execution_count": 11,
   "id": "accredited-blocking",
   "metadata": {},
   "outputs": [],
   "source": [
    "# do statistical smoothing\n",
    "c = 4\n",
    "nmid = 20\n",
    "\n",
    "\n",
    "y_avg = train_test['fraud_label'].mean()\n",
    "y_dow = train_test.groupby('dow')['fraud_label'].mean()\n",
    "num = train_test.groupby('dow').size()\n",
    "y_dow_smooth = y_avg + (y_dow - y_avg)/(1 + np.exp(-(num - nmid)/c))\n",
    "df['dow_risk'] = df.dow.map(y_dow_smooth)"
   ]
  },
  {
   "cell_type": "markdown",
   "id": "supported-assistant",
   "metadata": {},
   "source": [
    "#### Day of Month"
   ]
  },
  {
   "cell_type": "code",
   "execution_count": 12,
   "id": "virgin-hamburg",
   "metadata": {},
   "outputs": [],
   "source": [
    "df['dom'] = df['date'].dt.day"
   ]
  },
  {
   "cell_type": "code",
   "execution_count": 13,
   "id": "egyptian-selling",
   "metadata": {},
   "outputs": [],
   "source": [
    "train_test = df[df.date < '2016-11-01']"
   ]
  },
  {
   "cell_type": "code",
   "execution_count": 14,
   "id": "american-denial",
   "metadata": {},
   "outputs": [],
   "source": [
    "c = 10\n",
    "nmid = 50\n",
    "y_avg = train_test['fraud_label'].mean()\n",
    "y_dom = train_test.groupby('dom')['fraud_label'].mean()\n",
    "num = train_test.groupby('dom').size()\n",
    "y_dom_smooth = y_avg + (y_dom - y_avg)/(1 + np.exp(-(num - nmid)/c))\n",
    "df['dom_risk'] = df.dom.map(y_dom_smooth)"
   ]
  },
  {
   "cell_type": "markdown",
   "id": "macro-ecuador",
   "metadata": {},
   "source": [
    "#### Fulladdress"
   ]
  },
  {
   "cell_type": "code",
   "execution_count": 15,
   "id": "terminal-working",
   "metadata": {},
   "outputs": [],
   "source": [
    "#c = 4\n",
    "#nmid = 50\n",
    "#y_avg = train_test['fraud_label'].mean()\n",
    "#y_dow = train_test.groupby('fulladdress')['fraud_label'].mean()\n",
    "#num = train_test.groupby('fulladdress').size()\n",
    "#y_dow_smooth = y_avg_full + (y_dow_full - y_avg_full)/(1 + np.exp(-(num - nmid)/c))\n",
    "#df['fulladdress_risk'] = df.dow.map(y_dow_smooth)"
   ]
  },
  {
   "cell_type": "markdown",
   "id": "italian-character",
   "metadata": {},
   "source": [
    "#### ZIP"
   ]
  },
  {
   "cell_type": "code",
   "execution_count": 16,
   "id": "celtic-november",
   "metadata": {},
   "outputs": [],
   "source": [
    "c = 4\n",
    "nmid = 50\n",
    "y_avg = train_test['fraud_label'].mean()\n",
    "y_zip = train_test.groupby('zip5')['fraud_label'].mean()\n",
    "num = train_test.groupby('zip5').size()\n",
    "y_zip_smooth = y_avg + (y_zip - y_avg)/(1 + np.exp(-(num - nmid)/c))\n",
    "df['zip_risk'] = df.zip5.map(y_zip_smooth)\n",
    "df['zip_risk'] = df['zip_risk'].fillna(df['zip_risk'].mean())\n"
   ]
  },
  {
   "cell_type": "markdown",
   "id": "continuing-shark",
   "metadata": {},
   "source": [
    "### Create Entities"
   ]
  },
  {
   "cell_type": "code",
   "execution_count": 17,
   "id": "framed-occasions",
   "metadata": {},
   "outputs": [],
   "source": [
    "df['name'] = df.firstname + df.lastname\n",
    "df['fulladdress'] = df.address + df.zip5\n",
    "df['name_dob'] = df.name + df.dob\n",
    "df['name_fulladdress'] = df.name + df.fulladdress\n",
    "df['name_homephone'] = df.name + df.homephone\n",
    "df['fulladdress_dob'] = df.fulladdress + df.dob\n",
    "df['fulladdress_homephone'] = df.fulladdress + df.homephone\n",
    "df['dob_homephone'] = df.dob + df.homephone\n",
    "df['homephone_name_dob'] = df.homephone + df.name_dob"
   ]
  },
  {
   "cell_type": "code",
   "execution_count": 18,
   "id": "celtic-booth",
   "metadata": {},
   "outputs": [],
   "source": [
    "for field in list(df.iloc[:,np.r_[3:9, 15:18]].columns):\n",
    "    df['ssn_' + field] = df.ssn + df[field]"
   ]
  },
  {
   "cell_type": "code",
   "execution_count": 19,
   "id": "reserved-undergraduate",
   "metadata": {},
   "outputs": [],
   "source": [
    "attributes = list(df.iloc[:, np.r_[2,5,7,8,15:33]].columns)"
   ]
  },
  {
   "cell_type": "code",
   "execution_count": 20,
   "id": "compact-cylinder",
   "metadata": {},
   "outputs": [
    {
     "data": {
      "text/plain": [
       "['ssn',\n",
       " 'address',\n",
       " 'dob',\n",
       " 'homephone',\n",
       " 'name',\n",
       " 'fulladdress',\n",
       " 'name_dob',\n",
       " 'name_fulladdress',\n",
       " 'name_homephone',\n",
       " 'fulladdress_dob',\n",
       " 'fulladdress_homephone',\n",
       " 'dob_homephone',\n",
       " 'homephone_name_dob',\n",
       " 'ssn_firstname',\n",
       " 'ssn_lastname',\n",
       " 'ssn_address',\n",
       " 'ssn_zip5',\n",
       " 'ssn_dob',\n",
       " 'ssn_homephone',\n",
       " 'ssn_name',\n",
       " 'ssn_fulladdress',\n",
       " 'ssn_name_dob']"
      ]
     },
     "execution_count": 20,
     "metadata": {},
     "output_type": "execute_result"
    }
   ],
   "source": [
    "attributes"
   ]
  },
  {
   "cell_type": "markdown",
   "id": "pointed-contest",
   "metadata": {},
   "source": [
    "### Velocity + Day since"
   ]
  },
  {
   "cell_type": "code",
   "execution_count": 21,
   "id": "fitting-alabama",
   "metadata": {},
   "outputs": [],
   "source": [
    "df1 = df.copy()\n",
    "final = df.copy()\n",
    "df1['check_date'] = df1.date\n",
    "df1['check_record'] = df1.record"
   ]
  },
  {
   "cell_type": "code",
   "execution_count": 22,
   "id": "bearing-communist",
   "metadata": {},
   "outputs": [
    {
     "name": "stdout",
     "output_type": "stream",
     "text": [
      "\n",
      "ssn_day_since ---> Done\n",
      "ssn_count_0 ---> Done\n",
      "ssn_count_1 ---> Done\n",
      "ssn_count_3 ---> Done\n",
      "ssn_count_7 ---> Done\n",
      "ssn_count_14 ---> Done\n",
      "ssn_count_30 ---> Done\n",
      "\n",
      "address_day_since ---> Done\n",
      "address_count_0 ---> Done\n",
      "address_count_1 ---> Done\n",
      "address_count_3 ---> Done\n",
      "address_count_7 ---> Done\n",
      "address_count_14 ---> Done\n",
      "address_count_30 ---> Done\n",
      "\n",
      "dob_day_since ---> Done\n",
      "dob_count_0 ---> Done\n",
      "dob_count_1 ---> Done\n",
      "dob_count_3 ---> Done\n",
      "dob_count_7 ---> Done\n",
      "dob_count_14 ---> Done\n",
      "dob_count_30 ---> Done\n",
      "\n",
      "homephone_day_since ---> Done\n",
      "homephone_count_0 ---> Done\n",
      "homephone_count_1 ---> Done\n",
      "homephone_count_3 ---> Done\n",
      "homephone_count_7 ---> Done\n",
      "homephone_count_14 ---> Done\n",
      "homephone_count_30 ---> Done\n",
      "\n",
      "name_day_since ---> Done\n",
      "name_count_0 ---> Done\n",
      "name_count_1 ---> Done\n",
      "name_count_3 ---> Done\n",
      "name_count_7 ---> Done\n",
      "name_count_14 ---> Done\n",
      "name_count_30 ---> Done\n",
      "\n",
      "fulladdress_day_since ---> Done\n",
      "fulladdress_count_0 ---> Done\n",
      "fulladdress_count_1 ---> Done\n",
      "fulladdress_count_3 ---> Done\n",
      "fulladdress_count_7 ---> Done\n",
      "fulladdress_count_14 ---> Done\n",
      "fulladdress_count_30 ---> Done\n",
      "\n",
      "name_dob_day_since ---> Done\n",
      "name_dob_count_0 ---> Done\n",
      "name_dob_count_1 ---> Done\n",
      "name_dob_count_3 ---> Done\n",
      "name_dob_count_7 ---> Done\n",
      "name_dob_count_14 ---> Done\n",
      "name_dob_count_30 ---> Done\n",
      "\n",
      "name_fulladdress_day_since ---> Done\n",
      "name_fulladdress_count_0 ---> Done\n",
      "name_fulladdress_count_1 ---> Done\n",
      "name_fulladdress_count_3 ---> Done\n",
      "name_fulladdress_count_7 ---> Done\n",
      "name_fulladdress_count_14 ---> Done\n",
      "name_fulladdress_count_30 ---> Done\n",
      "\n",
      "name_homephone_day_since ---> Done\n",
      "name_homephone_count_0 ---> Done\n",
      "name_homephone_count_1 ---> Done\n",
      "name_homephone_count_3 ---> Done\n",
      "name_homephone_count_7 ---> Done\n",
      "name_homephone_count_14 ---> Done\n",
      "name_homephone_count_30 ---> Done\n",
      "\n",
      "fulladdress_dob_day_since ---> Done\n",
      "fulladdress_dob_count_0 ---> Done\n",
      "fulladdress_dob_count_1 ---> Done\n",
      "fulladdress_dob_count_3 ---> Done\n",
      "fulladdress_dob_count_7 ---> Done\n",
      "fulladdress_dob_count_14 ---> Done\n",
      "fulladdress_dob_count_30 ---> Done\n",
      "\n",
      "fulladdress_homephone_day_since ---> Done\n",
      "fulladdress_homephone_count_0 ---> Done\n",
      "fulladdress_homephone_count_1 ---> Done\n",
      "fulladdress_homephone_count_3 ---> Done\n",
      "fulladdress_homephone_count_7 ---> Done\n",
      "fulladdress_homephone_count_14 ---> Done\n",
      "fulladdress_homephone_count_30 ---> Done\n",
      "\n",
      "dob_homephone_day_since ---> Done\n",
      "dob_homephone_count_0 ---> Done\n",
      "dob_homephone_count_1 ---> Done\n",
      "dob_homephone_count_3 ---> Done\n",
      "dob_homephone_count_7 ---> Done\n",
      "dob_homephone_count_14 ---> Done\n",
      "dob_homephone_count_30 ---> Done\n",
      "\n",
      "homephone_name_dob_day_since ---> Done\n",
      "homephone_name_dob_count_0 ---> Done\n",
      "homephone_name_dob_count_1 ---> Done\n",
      "homephone_name_dob_count_3 ---> Done\n",
      "homephone_name_dob_count_7 ---> Done\n",
      "homephone_name_dob_count_14 ---> Done\n",
      "homephone_name_dob_count_30 ---> Done\n",
      "\n",
      "ssn_firstname_day_since ---> Done\n",
      "ssn_firstname_count_0 ---> Done\n",
      "ssn_firstname_count_1 ---> Done\n",
      "ssn_firstname_count_3 ---> Done\n",
      "ssn_firstname_count_7 ---> Done\n",
      "ssn_firstname_count_14 ---> Done\n",
      "ssn_firstname_count_30 ---> Done\n",
      "\n",
      "ssn_lastname_day_since ---> Done\n",
      "ssn_lastname_count_0 ---> Done\n",
      "ssn_lastname_count_1 ---> Done\n",
      "ssn_lastname_count_3 ---> Done\n",
      "ssn_lastname_count_7 ---> Done\n",
      "ssn_lastname_count_14 ---> Done\n",
      "ssn_lastname_count_30 ---> Done\n",
      "\n",
      "ssn_address_day_since ---> Done\n",
      "ssn_address_count_0 ---> Done\n",
      "ssn_address_count_1 ---> Done\n",
      "ssn_address_count_3 ---> Done\n",
      "ssn_address_count_7 ---> Done\n",
      "ssn_address_count_14 ---> Done\n",
      "ssn_address_count_30 ---> Done\n",
      "\n",
      "ssn_zip5_day_since ---> Done\n",
      "ssn_zip5_count_0 ---> Done\n",
      "ssn_zip5_count_1 ---> Done\n",
      "ssn_zip5_count_3 ---> Done\n",
      "ssn_zip5_count_7 ---> Done\n",
      "ssn_zip5_count_14 ---> Done\n",
      "ssn_zip5_count_30 ---> Done\n",
      "\n",
      "ssn_dob_day_since ---> Done\n",
      "ssn_dob_count_0 ---> Done\n",
      "ssn_dob_count_1 ---> Done\n",
      "ssn_dob_count_3 ---> Done\n",
      "ssn_dob_count_7 ---> Done\n",
      "ssn_dob_count_14 ---> Done\n",
      "ssn_dob_count_30 ---> Done\n",
      "\n",
      "ssn_homephone_day_since ---> Done\n",
      "ssn_homephone_count_0 ---> Done\n",
      "ssn_homephone_count_1 ---> Done\n",
      "ssn_homephone_count_3 ---> Done\n",
      "ssn_homephone_count_7 ---> Done\n",
      "ssn_homephone_count_14 ---> Done\n",
      "ssn_homephone_count_30 ---> Done\n",
      "\n",
      "ssn_name_day_since ---> Done\n",
      "ssn_name_count_0 ---> Done\n",
      "ssn_name_count_1 ---> Done\n",
      "ssn_name_count_3 ---> Done\n",
      "ssn_name_count_7 ---> Done\n",
      "ssn_name_count_14 ---> Done\n",
      "ssn_name_count_30 ---> Done\n",
      "\n",
      "ssn_fulladdress_day_since ---> Done\n",
      "ssn_fulladdress_count_0 ---> Done\n",
      "ssn_fulladdress_count_1 ---> Done\n",
      "ssn_fulladdress_count_3 ---> Done\n",
      "ssn_fulladdress_count_7 ---> Done\n",
      "ssn_fulladdress_count_14 ---> Done\n",
      "ssn_fulladdress_count_30 ---> Done\n",
      "\n",
      "ssn_name_dob_day_since ---> Done\n",
      "ssn_name_dob_count_0 ---> Done\n",
      "ssn_name_dob_count_1 ---> Done\n",
      "ssn_name_dob_count_3 ---> Done\n",
      "ssn_name_dob_count_7 ---> Done\n",
      "ssn_name_dob_count_14 ---> Done\n",
      "ssn_name_dob_count_30 ---> Done\n"
     ]
    }
   ],
   "source": [
    "#start = time.time()\n",
    "for entity in attributes:\n",
    "    #st = time.time()\n",
    "    df_l = df1[['record', 'date', entity]]\n",
    "    df_r = df1[['check_record', 'check_date', entity]]\n",
    "    temp = pd.merge(df_l, df_r, left_on=entity, right_on=entity)\n",
    "    \n",
    "    # day since\n",
    "    day_since_df = temp[temp.record > temp.check_record][['record', 'date', 'check_date']].groupby('record')[\n",
    "        ['date', 'check_date']].last()\n",
    "    mapper = (day_since_df.date - day_since_df.check_date).dt.days\n",
    "    final[entity + '_day_since'] = final.record.map(mapper)\n",
    "    final[entity + '_day_since'].fillna(365, inplace=True)\n",
    "    print(f'\\n{entity}_day_since ---> Done')\n",
    "    \n",
    "    # velocity\n",
    "    for offset_t in [0, 1, 3, 7, 14, 30]:\n",
    "        count_day_df = temp[(temp.check_date >= (temp.date - timedelta(offset_t)))\n",
    "                           & (temp.record >= temp.check_record)]\n",
    "        col_name = f'{entity}_count_{offset_t}'\n",
    "        mapper2 = count_day_df.groupby('record')[entity].count()\n",
    "        final[col_name] = final.record.map(mapper2)\n",
    "        \n",
    "        print(f'{entity}_count_{str(offset_t)} ---> Done')\n",
    "        \n",
    "    #print(f'Run time for entity {entity} ------------ {time.time() - st:0.2f}s')\n",
    "\n",
    "#print(f'Total run time: {(time.time() - start) / 60:0.2f}min')"
   ]
  },
  {
   "cell_type": "markdown",
   "id": "confident-avatar",
   "metadata": {},
   "source": [
    "### Relative Velocity"
   ]
  },
  {
   "cell_type": "code",
   "execution_count": 23,
   "id": "liked-induction",
   "metadata": {},
   "outputs": [],
   "source": [
    "#start = time.time()\n",
    "for att in attributes:\n",
    "    for d in ['0', '1']:\n",
    "        for dd in ['3','7','14','30']:\n",
    "            final[att + '_count_' + d + '_by_' + dd] = final[\n",
    "                att + '_count_' +d] / (final[att + '_count_' + dd] / float(dd))\n",
    "#print(f'Total run time: {time.time() - start:0.2f}s')"
   ]
  },
  {
   "cell_type": "markdown",
   "id": "logical-converter",
   "metadata": {},
   "source": [
    "### Core Variables"
   ]
  },
  {
   "cell_type": "code",
   "execution_count": 24,
   "id": "social-cisco",
   "metadata": {},
   "outputs": [
    {
     "name": "stdout",
     "output_type": "stream",
     "text": [
      "ssn with homephone is ------> Done\n",
      "ssn with fulladdress is ------> Done\n",
      "ssn with name_dob is ------> Done\n",
      "ssn with fulladdress_homephone is ------> Done\n",
      "homephone with ssn is ------> Done\n",
      "homephone with fulladdress is ------> Done\n",
      "homephone with name_dob is ------> Done\n",
      "homephone with fulladdress_homephone is ------> Done\n",
      "fulladdress with ssn is ------> Done\n",
      "fulladdress with homephone is ------> Done\n",
      "fulladdress with name_dob is ------> Done\n",
      "fulladdress with fulladdress_homephone is ------> Done\n",
      "name_dob with ssn is ------> Done\n",
      "name_dob with homephone is ------> Done\n",
      "name_dob with fulladdress is ------> Done\n",
      "name_dob with fulladdress_homephone is ------> Done\n",
      "fulladdress_homephone with ssn is ------> Done\n",
      "fulladdress_homephone with homephone is ------> Done\n",
      "fulladdress_homephone with fulladdress is ------> Done\n",
      "fulladdress_homephone with name_dob is ------> Done\n"
     ]
    }
   ],
   "source": [
    "key_attr = ['ssn','homephone','fulladdress','name_dob','fulladdress_homephone']\n",
    "\n",
    "for entity1 in key_attr:\n",
    "    for entity2 in key_attr:\n",
    "        if entity1 == entity2:\n",
    "            pass\n",
    "        else:\n",
    "            df_l = df1[['record', 'date', entity1, entity2]]\n",
    "            df_r = df1[['check_record', 'check_date', entity1, entity2]]\n",
    "\n",
    "            temp = pd.merge(df_l, df_r, left_on = entity1, right_on = entity1)\n",
    "\n",
    "            temp = temp[(temp.record >= temp.check_record)]\n",
    "            col_name = f'num_of_{entity2}_for_each_{entity1}'\n",
    "            mapper = temp.groupby(['record', entity1])[entity2+'_y'].nunique()\n",
    "            mapper = pd.DataFrame(mapper).reset_index()\n",
    "            final[col_name] = mapper.loc[(mapper['record'] == final['record']) & (mapper[entity1] == final[entity1])][entity2+'_y']\n",
    "            print(f'{entity1} with {entity2} is ------> Done')"
   ]
  },
  {
   "cell_type": "code",
   "execution_count": 25,
   "id": "supported-hours",
   "metadata": {},
   "outputs": [
    {
     "data": {
      "text/plain": [
       "(1000000, 383)"
      ]
     },
     "execution_count": 25,
     "metadata": {},
     "output_type": "execute_result"
    }
   ],
   "source": [
    "final.shape"
   ]
  },
  {
   "cell_type": "markdown",
   "id": "extra-congo",
   "metadata": {},
   "source": [
    "### Select Candidates Variables"
   ]
  },
  {
   "cell_type": "code",
   "execution_count": 26,
   "id": "closing-federation",
   "metadata": {},
   "outputs": [],
   "source": [
    "candidates = final.iloc[:,np.r_[11,13,14,33:383]]\n",
    "stats_candidates = candidates.describe().T[['min','max','mean','std']]"
   ]
  },
  {
   "cell_type": "code",
   "execution_count": 27,
   "id": "imported-carry",
   "metadata": {},
   "outputs": [],
   "source": [
    "final.to_csv('all_candidate_variabels.csv')"
   ]
  },
  {
   "cell_type": "code",
   "execution_count": 28,
   "id": "pointed-links",
   "metadata": {},
   "outputs": [
    {
     "data": {
      "text/plain": [
       "(1000000, 353)"
      ]
     },
     "execution_count": 28,
     "metadata": {},
     "output_type": "execute_result"
    }
   ],
   "source": [
    "candidates.shape"
   ]
  },
  {
   "cell_type": "code",
   "execution_count": 29,
   "id": "allied-nothing",
   "metadata": {
    "scrolled": true
   },
   "outputs": [
    {
     "data": {
      "text/html": [
       "<div>\n",
       "<style scoped>\n",
       "    .dataframe tbody tr th:only-of-type {\n",
       "        vertical-align: middle;\n",
       "    }\n",
       "\n",
       "    .dataframe tbody tr th {\n",
       "        vertical-align: top;\n",
       "    }\n",
       "\n",
       "    .dataframe thead th {\n",
       "        text-align: right;\n",
       "    }\n",
       "</style>\n",
       "<table border=\"1\" class=\"dataframe\">\n",
       "  <thead>\n",
       "    <tr style=\"text-align: right;\">\n",
       "      <th></th>\n",
       "      <th>min</th>\n",
       "      <th>max</th>\n",
       "      <th>mean</th>\n",
       "      <th>std</th>\n",
       "    </tr>\n",
       "  </thead>\n",
       "  <tbody>\n",
       "    <tr>\n",
       "      <th>dow_risk</th>\n",
       "      <td>0.013480</td>\n",
       "      <td>0.015169</td>\n",
       "      <td>0.014410</td>\n",
       "      <td>0.000624</td>\n",
       "    </tr>\n",
       "    <tr>\n",
       "      <th>dom_risk</th>\n",
       "      <td>0.011151</td>\n",
       "      <td>0.016312</td>\n",
       "      <td>0.014407</td>\n",
       "      <td>0.001310</td>\n",
       "    </tr>\n",
       "    <tr>\n",
       "      <th>zip_risk</th>\n",
       "      <td>0.000000</td>\n",
       "      <td>0.483871</td>\n",
       "      <td>0.014644</td>\n",
       "      <td>0.023018</td>\n",
       "    </tr>\n",
       "    <tr>\n",
       "      <th>ssn_day_since</th>\n",
       "      <td>0.000000</td>\n",
       "      <td>365.000000</td>\n",
       "      <td>327.100964</td>\n",
       "      <td>96.645429</td>\n",
       "    </tr>\n",
       "    <tr>\n",
       "      <th>ssn_count_0</th>\n",
       "      <td>1.000000</td>\n",
       "      <td>21.000000</td>\n",
       "      <td>1.007305</td>\n",
       "      <td>0.223356</td>\n",
       "    </tr>\n",
       "    <tr>\n",
       "      <th>...</th>\n",
       "      <td>...</td>\n",
       "      <td>...</td>\n",
       "      <td>...</td>\n",
       "      <td>...</td>\n",
       "    </tr>\n",
       "    <tr>\n",
       "      <th>num_of_fulladdress_homephone_for_each_name_dob</th>\n",
       "      <td>1.000000</td>\n",
       "      <td>34.000000</td>\n",
       "      <td>1.027125</td>\n",
       "      <td>0.482499</td>\n",
       "    </tr>\n",
       "    <tr>\n",
       "      <th>num_of_ssn_for_each_fulladdress_homephone</th>\n",
       "      <td>1.000000</td>\n",
       "      <td>30.000000</td>\n",
       "      <td>1.024670</td>\n",
       "      <td>0.493882</td>\n",
       "    </tr>\n",
       "    <tr>\n",
       "      <th>num_of_homephone_for_each_fulladdress_homephone</th>\n",
       "      <td>1.000000</td>\n",
       "      <td>1.000000</td>\n",
       "      <td>1.000000</td>\n",
       "      <td>0.000000</td>\n",
       "    </tr>\n",
       "    <tr>\n",
       "      <th>num_of_fulladdress_for_each_fulladdress_homephone</th>\n",
       "      <td>1.000000</td>\n",
       "      <td>1.000000</td>\n",
       "      <td>1.000000</td>\n",
       "      <td>0.000000</td>\n",
       "    </tr>\n",
       "    <tr>\n",
       "      <th>num_of_name_dob_for_each_fulladdress_homephone</th>\n",
       "      <td>1.000000</td>\n",
       "      <td>30.000000</td>\n",
       "      <td>1.034130</td>\n",
       "      <td>0.505999</td>\n",
       "    </tr>\n",
       "  </tbody>\n",
       "</table>\n",
       "<p>353 rows × 4 columns</p>\n",
       "</div>"
      ],
      "text/plain": [
       "                                                        min         max  \\\n",
       "dow_risk                                           0.013480    0.015169   \n",
       "dom_risk                                           0.011151    0.016312   \n",
       "zip_risk                                           0.000000    0.483871   \n",
       "ssn_day_since                                      0.000000  365.000000   \n",
       "ssn_count_0                                        1.000000   21.000000   \n",
       "...                                                     ...         ...   \n",
       "num_of_fulladdress_homephone_for_each_name_dob     1.000000   34.000000   \n",
       "num_of_ssn_for_each_fulladdress_homephone          1.000000   30.000000   \n",
       "num_of_homephone_for_each_fulladdress_homephone    1.000000    1.000000   \n",
       "num_of_fulladdress_for_each_fulladdress_homephone  1.000000    1.000000   \n",
       "num_of_name_dob_for_each_fulladdress_homephone     1.000000   30.000000   \n",
       "\n",
       "                                                         mean        std  \n",
       "dow_risk                                             0.014410   0.000624  \n",
       "dom_risk                                             0.014407   0.001310  \n",
       "zip_risk                                             0.014644   0.023018  \n",
       "ssn_day_since                                      327.100964  96.645429  \n",
       "ssn_count_0                                          1.007305   0.223356  \n",
       "...                                                       ...        ...  \n",
       "num_of_fulladdress_homephone_for_each_name_dob       1.027125   0.482499  \n",
       "num_of_ssn_for_each_fulladdress_homephone            1.024670   0.493882  \n",
       "num_of_homephone_for_each_fulladdress_homephone      1.000000   0.000000  \n",
       "num_of_fulladdress_for_each_fulladdress_homephone    1.000000   0.000000  \n",
       "num_of_name_dob_for_each_fulladdress_homephone       1.034130   0.505999  \n",
       "\n",
       "[353 rows x 4 columns]"
      ]
     },
     "execution_count": 29,
     "metadata": {},
     "output_type": "execute_result"
    }
   ],
   "source": [
    "stats_candidates"
   ]
  },
  {
   "cell_type": "code",
   "execution_count": null,
   "id": "finished-thumbnail",
   "metadata": {},
   "outputs": [],
   "source": []
  }
 ],
 "metadata": {
  "kernelspec": {
   "display_name": "Python 3",
   "language": "python",
   "name": "python3"
  },
  "language_info": {
   "codemirror_mode": {
    "name": "ipython",
    "version": 3
   },
   "file_extension": ".py",
   "mimetype": "text/x-python",
   "name": "python",
   "nbconvert_exporter": "python",
   "pygments_lexer": "ipython3",
   "version": "3.7.6"
  }
 },
 "nbformat": 4,
 "nbformat_minor": 5
}
